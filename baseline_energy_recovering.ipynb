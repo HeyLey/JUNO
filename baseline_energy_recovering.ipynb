{
 "cells": [
  {
   "cell_type": "code",
   "execution_count": 1,
   "metadata": {},
   "outputs": [
    {
     "name": "stderr",
     "output_type": "stream",
     "text": [
      "/opt/conda/anaconda3/lib/python3.6/importlib/_bootstrap.py:205: RuntimeWarning: numpy.dtype size changed, may indicate binary incompatibility. Expected 96, got 88\n",
      "  return f(*args, **kwds)\n",
      "/opt/conda/anaconda3/lib/python3.6/importlib/_bootstrap.py:205: RuntimeWarning: numpy.dtype size changed, may indicate binary incompatibility. Expected 96, got 88\n",
      "  return f(*args, **kwds)\n"
     ]
    }
   ],
   "source": [
    "import numpy as np\n",
    "import pandas as pd\n",
    "from mpl_toolkits.mplot3d import Axes3D\n",
    "import matplotlib.pyplot as plt\n",
    "import tables\n",
    "from random import shuffle\n",
    "from IPython.display import clear_output\n",
    "from sklearn import metrics\n",
    "from tqdm import tqdm\n",
    "import time\n",
    "import seaborn as sns\n",
    "%matplotlib inline"
   ]
  },
  {
   "cell_type": "code",
   "execution_count": 2,
   "metadata": {
    "collapsed": true
   },
   "outputs": [],
   "source": [
    "import os\n",
    "USE_GPU = True\n",
    "os.environ['CUDA_VISIBLE_DEVICES'] = '3' if USE_GPU else ''\n",
    "EPS = 1e-15"
   ]
  },
  {
   "cell_type": "code",
   "execution_count": 5,
   "metadata": {
    "collapsed": true
   },
   "outputs": [],
   "source": [
    "lpmt_hits = pd.read_hdf('../data/lpmt_hits.h5', mode='r') \n",
    "spmt_hits = pd.read_hdf('../data/spmt_hits.h5', mode='r')\n",
    "lpmt_pos = pd.read_csv('data/lpmt_pos.csv') \n",
    "spmt_pos = pd.read_csv('data/spmt_pos.csv') \n",
    "true_info = pd.read_csv('data/true_info.csv') "
   ]
  },
  {
   "cell_type": "code",
   "execution_count": 6,
   "metadata": {},
   "outputs": [
    {
     "name": "stdout",
     "output_type": "stream",
     "text": [
      "24245329920\n"
     ]
    }
   ],
   "source": [
    "import os\n",
    "import psutil\n",
    "process = psutil.Process(os.getpid())\n",
    "print(process.memory_info().rss)"
   ]
  },
  {
   "cell_type": "code",
   "execution_count": 7,
   "metadata": {},
   "outputs": [
    {
     "data": {
      "text/plain": [
       "(929768817, 33958478)"
      ]
     },
     "execution_count": 7,
     "metadata": {},
     "output_type": "execute_result"
    }
   ],
   "source": [
    "len(lpmt_hits), len(spmt_hits)"
   ]
  },
  {
   "cell_type": "code",
   "execution_count": 8,
   "metadata": {},
   "outputs": [
    {
     "data": {
      "text/html": [
       "<div>\n",
       "<style>\n",
       "    .dataframe thead tr:only-child th {\n",
       "        text-align: right;\n",
       "    }\n",
       "\n",
       "    .dataframe thead th {\n",
       "        text-align: left;\n",
       "    }\n",
       "\n",
       "    .dataframe tbody tr th {\n",
       "        vertical-align: top;\n",
       "    }\n",
       "</style>\n",
       "<table border=\"1\" class=\"dataframe\">\n",
       "  <thead>\n",
       "    <tr style=\"text-align: right;\">\n",
       "      <th></th>\n",
       "      <th>event</th>\n",
       "      <th>hitTime</th>\n",
       "      <th>isDN</th>\n",
       "      <th>pmtID</th>\n",
       "    </tr>\n",
       "  </thead>\n",
       "  <tbody>\n",
       "    <tr>\n",
       "      <th>0</th>\n",
       "      <td>0</td>\n",
       "      <td>249.992615</td>\n",
       "      <td>False</td>\n",
       "      <td>14175</td>\n",
       "    </tr>\n",
       "    <tr>\n",
       "      <th>1</th>\n",
       "      <td>0</td>\n",
       "      <td>40.010311</td>\n",
       "      <td>False</td>\n",
       "      <td>17319</td>\n",
       "    </tr>\n",
       "    <tr>\n",
       "      <th>2</th>\n",
       "      <td>0</td>\n",
       "      <td>162.123199</td>\n",
       "      <td>False</td>\n",
       "      <td>16882</td>\n",
       "    </tr>\n",
       "    <tr>\n",
       "      <th>3</th>\n",
       "      <td>0</td>\n",
       "      <td>51.875614</td>\n",
       "      <td>False</td>\n",
       "      <td>14951</td>\n",
       "    </tr>\n",
       "    <tr>\n",
       "      <th>4</th>\n",
       "      <td>0</td>\n",
       "      <td>79.817497</td>\n",
       "      <td>False</td>\n",
       "      <td>10947</td>\n",
       "    </tr>\n",
       "  </tbody>\n",
       "</table>\n",
       "</div>"
      ],
      "text/plain": [
       "   event     hitTime   isDN  pmtID\n",
       "0      0  249.992615  False  14175\n",
       "1      0   40.010311  False  17319\n",
       "2      0  162.123199  False  16882\n",
       "3      0   51.875614  False  14951\n",
       "4      0   79.817497  False  10947"
      ]
     },
     "execution_count": 8,
     "metadata": {},
     "output_type": "execute_result"
    }
   ],
   "source": [
    "lpmt_hits.head() # spmt_hits.head() "
   ]
  },
  {
   "cell_type": "code",
   "execution_count": 9,
   "metadata": {},
   "outputs": [
    {
     "data": {
      "text/html": [
       "<div>\n",
       "<style>\n",
       "    .dataframe thead tr:only-child th {\n",
       "        text-align: right;\n",
       "    }\n",
       "\n",
       "    .dataframe thead th {\n",
       "        text-align: left;\n",
       "    }\n",
       "\n",
       "    .dataframe tbody tr th {\n",
       "        vertical-align: top;\n",
       "    }\n",
       "</style>\n",
       "<table border=\"1\" class=\"dataframe\">\n",
       "  <thead>\n",
       "    <tr style=\"text-align: right;\">\n",
       "      <th></th>\n",
       "      <th>pmt_id</th>\n",
       "      <th>pmt_x</th>\n",
       "      <th>pmt_y</th>\n",
       "      <th>pmt_z</th>\n",
       "    </tr>\n",
       "  </thead>\n",
       "  <tbody>\n",
       "    <tr>\n",
       "      <th>0</th>\n",
       "      <td>0</td>\n",
       "      <td>1.049021e+03</td>\n",
       "      <td>0.0000</td>\n",
       "      <td>19171.32</td>\n",
       "    </tr>\n",
       "    <tr>\n",
       "      <th>1</th>\n",
       "      <td>1</td>\n",
       "      <td>9.084785e+02</td>\n",
       "      <td>524.5103</td>\n",
       "      <td>19171.32</td>\n",
       "    </tr>\n",
       "    <tr>\n",
       "      <th>2</th>\n",
       "      <td>2</td>\n",
       "      <td>5.245103e+02</td>\n",
       "      <td>908.4785</td>\n",
       "      <td>19171.32</td>\n",
       "    </tr>\n",
       "    <tr>\n",
       "      <th>3</th>\n",
       "      <td>3</td>\n",
       "      <td>6.423399e-14</td>\n",
       "      <td>1049.0206</td>\n",
       "      <td>19171.32</td>\n",
       "    </tr>\n",
       "    <tr>\n",
       "      <th>4</th>\n",
       "      <td>4</td>\n",
       "      <td>-5.245103e+02</td>\n",
       "      <td>908.4785</td>\n",
       "      <td>19171.32</td>\n",
       "    </tr>\n",
       "  </tbody>\n",
       "</table>\n",
       "</div>"
      ],
      "text/plain": [
       "   pmt_id         pmt_x      pmt_y     pmt_z\n",
       "0       0  1.049021e+03     0.0000  19171.32\n",
       "1       1  9.084785e+02   524.5103  19171.32\n",
       "2       2  5.245103e+02   908.4785  19171.32\n",
       "3       3  6.423399e-14  1049.0206  19171.32\n",
       "4       4 -5.245103e+02   908.4785  19171.32"
      ]
     },
     "execution_count": 9,
     "metadata": {},
     "output_type": "execute_result"
    }
   ],
   "source": [
    "lpmt_pos.head() # spmt_pos.head()"
   ]
  },
  {
   "cell_type": "code",
   "execution_count": 10,
   "metadata": {},
   "outputs": [
    {
     "data": {
      "text/html": [
       "<div>\n",
       "<style>\n",
       "    .dataframe thead tr:only-child th {\n",
       "        text-align: right;\n",
       "    }\n",
       "\n",
       "    .dataframe thead th {\n",
       "        text-align: left;\n",
       "    }\n",
       "\n",
       "    .dataframe tbody tr th {\n",
       "        vertical-align: top;\n",
       "    }\n",
       "</style>\n",
       "<table border=\"1\" class=\"dataframe\">\n",
       "  <thead>\n",
       "    <tr style=\"text-align: right;\">\n",
       "      <th></th>\n",
       "      <th>E</th>\n",
       "      <th>R</th>\n",
       "      <th>evtID</th>\n",
       "      <th>x</th>\n",
       "      <th>y</th>\n",
       "      <th>z</th>\n",
       "    </tr>\n",
       "  </thead>\n",
       "  <tbody>\n",
       "    <tr>\n",
       "      <th>0</th>\n",
       "      <td>4.747791</td>\n",
       "      <td>14610.378</td>\n",
       "      <td>0</td>\n",
       "      <td>8290.7790</td>\n",
       "      <td>11995.6180</td>\n",
       "      <td>911.74286</td>\n",
       "    </tr>\n",
       "    <tr>\n",
       "      <th>1</th>\n",
       "      <td>3.919721</td>\n",
       "      <td>14630.141</td>\n",
       "      <td>1</td>\n",
       "      <td>11397.6320</td>\n",
       "      <td>5407.4497</td>\n",
       "      <td>-7409.08200</td>\n",
       "    </tr>\n",
       "    <tr>\n",
       "      <th>2</th>\n",
       "      <td>6.823932</td>\n",
       "      <td>14573.132</td>\n",
       "      <td>2</td>\n",
       "      <td>14063.3380</td>\n",
       "      <td>-3812.8540</td>\n",
       "      <td>246.65280</td>\n",
       "    </tr>\n",
       "    <tr>\n",
       "      <th>3</th>\n",
       "      <td>3.765940</td>\n",
       "      <td>16820.080</td>\n",
       "      <td>3</td>\n",
       "      <td>-2377.9307</td>\n",
       "      <td>-16317.7020</td>\n",
       "      <td>3315.59030</td>\n",
       "    </tr>\n",
       "    <tr>\n",
       "      <th>4</th>\n",
       "      <td>3.217473</td>\n",
       "      <td>13026.938</td>\n",
       "      <td>4</td>\n",
       "      <td>-8617.1170</td>\n",
       "      <td>868.5116</td>\n",
       "      <td>9730.98600</td>\n",
       "    </tr>\n",
       "  </tbody>\n",
       "</table>\n",
       "</div>"
      ],
      "text/plain": [
       "          E          R  evtID           x           y           z\n",
       "0  4.747791  14610.378      0   8290.7790  11995.6180   911.74286\n",
       "1  3.919721  14630.141      1  11397.6320   5407.4497 -7409.08200\n",
       "2  6.823932  14573.132      2  14063.3380  -3812.8540   246.65280\n",
       "3  3.765940  16820.080      3  -2377.9307 -16317.7020  3315.59030\n",
       "4  3.217473  13026.938      4  -8617.1170    868.5116  9730.98600"
      ]
     },
     "execution_count": 10,
     "metadata": {},
     "output_type": "execute_result"
    }
   ],
   "source": [
    "true_info.head()"
   ]
  },
  {
   "cell_type": "markdown",
   "metadata": {},
   "source": [
    "# KNN"
   ]
  },
  {
   "cell_type": "code",
   "execution_count": 11,
   "metadata": {
    "collapsed": true
   },
   "outputs": [],
   "source": [
    "total_pos = lpmt_pos.append(spmt_pos) "
   ]
  },
  {
   "cell_type": "code",
   "execution_count": 12,
   "metadata": {},
   "outputs": [
    {
     "data": {
      "text/plain": [
       "0"
      ]
     },
     "execution_count": 12,
     "metadata": {},
     "output_type": "execute_result"
    }
   ],
   "source": [
    "sum(total_pos['pmt_id'] == 318069)"
   ]
  },
  {
   "cell_type": "code",
   "execution_count": 13,
   "metadata": {},
   "outputs": [
    {
     "name": "stderr",
     "output_type": "stream",
     "text": [
      "100%|██████████| 42691/42691 [02:36<00:00, 272.70it/s]\n"
     ]
    }
   ],
   "source": [
    "neibours = np.zeros((len(total_pos), 100), dtype='int32')\n",
    "\n",
    "coord_list = []\n",
    "for _, x, y, z in total_pos.itertuples(index=False):\n",
    "    coord_list.append((x, y, z))\n",
    "\n",
    "coord = np.array(coord_list)\n",
    "\n",
    "for i, (id1, x1, y1, z1) in tqdm(enumerate(total_pos.itertuples(index=False)), total=len(total_pos)):\n",
    "    dists = np.sum(np.square(coord - (x1, y1, z1)), axis=1)\n",
    "    neibours[i] = np.argsort(dists)[1:101]"
   ]
  },
  {
   "cell_type": "code",
   "execution_count": 14,
   "metadata": {
    "collapsed": true
   },
   "outputs": [],
   "source": [
    "lpmt_hits['event'].unique()\n",
    "event_id = 0\n",
    "event_hits = lpmt_hits.loc[lpmt_hits['event'] == event_id].append(\n",
    "                   spmt_hits.loc[spmt_hits['event'] == event_id])"
   ]
  },
  {
   "cell_type": "code",
   "execution_count": 15,
   "metadata": {},
   "outputs": [
    {
     "data": {
      "text/html": [
       "<div>\n",
       "<style>\n",
       "    .dataframe thead tr:only-child th {\n",
       "        text-align: right;\n",
       "    }\n",
       "\n",
       "    .dataframe thead th {\n",
       "        text-align: left;\n",
       "    }\n",
       "\n",
       "    .dataframe tbody tr th {\n",
       "        vertical-align: top;\n",
       "    }\n",
       "</style>\n",
       "<table border=\"1\" class=\"dataframe\">\n",
       "  <thead>\n",
       "    <tr style=\"text-align: right;\">\n",
       "      <th></th>\n",
       "      <th>event</th>\n",
       "      <th>hitTime</th>\n",
       "      <th>isDN</th>\n",
       "      <th>pmtID</th>\n",
       "    </tr>\n",
       "  </thead>\n",
       "  <tbody>\n",
       "    <tr>\n",
       "      <th>0</th>\n",
       "      <td>0</td>\n",
       "      <td>37.040001</td>\n",
       "      <td>False</td>\n",
       "      <td>318069</td>\n",
       "    </tr>\n",
       "  </tbody>\n",
       "</table>\n",
       "</div>"
      ],
      "text/plain": [
       "   event    hitTime   isDN   pmtID\n",
       "0      0  37.040001  False  318069"
      ]
     },
     "execution_count": 15,
     "metadata": {},
     "output_type": "execute_result"
    }
   ],
   "source": [
    "# Detector 318069 not found\n",
    "event_hits.loc[event_hits['pmtID'] == 318069]"
   ]
  },
  {
   "cell_type": "code",
   "execution_count": 16,
   "metadata": {
    "collapsed": true
   },
   "outputs": [],
   "source": [
    "pmt_id_map = {v:i for i, v in enumerate(total_pos['pmt_id'].values)}"
   ]
  },
  {
   "cell_type": "code",
   "execution_count": 17,
   "metadata": {
    "collapsed": true
   },
   "outputs": [],
   "source": [
    "top_n = 20\n",
    "dtime = 100"
   ]
  },
  {
   "cell_type": "code",
   "execution_count": 18,
   "metadata": {
    "collapsed": true
   },
   "outputs": [],
   "source": [
    "d = {}\n",
    "for _, time, _, mtID in event_hits.itertuples(index=False):\n",
    "    if (mtID in pmt_id_map):\n",
    "        i = pmt_id_map[mtID]\n",
    "        l = d.get(i, [])\n",
    "        l.append(time)\n",
    "        d[i] = l\n",
    "\n",
    "d = {k: np.array(v) for k, v in d.items()}"
   ]
  },
  {
   "cell_type": "code",
   "execution_count": 19,
   "metadata": {
    "collapsed": true
   },
   "outputs": [],
   "source": [
    "values = []\n",
    "for _, time, _, mtID in event_hits.itertuples(index=False):\n",
    "    if (mtID not in pmt_id_map):\n",
    "        values.append(0)\n",
    "        continue\n",
    "    i = pmt_id_map[mtID]\n",
    "    value = 0 \n",
    "    for j in neibours[i,0:top_n]:\n",
    "        if j in d:\n",
    "            value += np.sum(np.abs(time - d[j]) < dtime)\n",
    "    values.append(value)"
   ]
  },
  {
   "cell_type": "code",
   "execution_count": 20,
   "metadata": {
    "collapsed": true
   },
   "outputs": [],
   "source": [
    "values = np.array(values)"
   ]
  },
  {
   "cell_type": "code",
   "execution_count": 21,
   "metadata": {},
   "outputs": [
    {
     "data": {
      "text/plain": [
       "14.05354609929078"
      ]
     },
     "execution_count": 21,
     "metadata": {},
     "output_type": "execute_result"
    }
   ],
   "source": [
    "np.mean(values[~event_hits['isDN']])"
   ]
  },
  {
   "cell_type": "markdown",
   "metadata": {},
   "source": [
    "# CatBoost"
   ]
  }
 ],
 "metadata": {
  "anaconda-cloud": {},
  "kernelspec": {
   "display_name": "Python 3",
   "language": "python",
   "name": "python3"
  },
  "language_info": {
   "codemirror_mode": {
    "name": "ipython",
    "version": 3
   },
   "file_extension": ".py",
   "mimetype": "text/x-python",
   "name": "python",
   "nbconvert_exporter": "python",
   "pygments_lexer": "ipython3",
   "version": "3.6.2"
  }
 },
 "nbformat": 4,
 "nbformat_minor": 1
}
