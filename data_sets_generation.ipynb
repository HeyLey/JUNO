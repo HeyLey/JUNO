{
 "cells": [
  {
   "cell_type": "code",
   "execution_count": 1,
   "metadata": {},
   "outputs": [
    {
     "name": "stderr",
     "output_type": "stream",
     "text": [
      "/opt/conda/anaconda3/lib/python3.6/importlib/_bootstrap.py:205: RuntimeWarning: numpy.dtype size changed, may indicate binary incompatibility. Expected 96, got 88\n",
      "  return f(*args, **kwds)\n",
      "/opt/conda/anaconda3/lib/python3.6/importlib/_bootstrap.py:205: RuntimeWarning: numpy.dtype size changed, may indicate binary incompatibility. Expected 96, got 88\n",
      "  return f(*args, **kwds)\n"
     ]
    }
   ],
   "source": [
    "import numpy as np\n",
    "import pandas as pd\n",
    "from sklearn.model_selection import train_test_split"
   ]
  },
  {
   "cell_type": "code",
   "execution_count": 2,
   "metadata": {
    "collapsed": true
   },
   "outputs": [],
   "source": [
    "lpmt_hits = pd.read_hdf('../data/lpmt_hits.h5', mode='r') \n",
    "spmt_hits = pd.read_hdf('../data/spmt_hits.h5', mode='r')\n",
    "lpmt_pos = pd.read_csv('data/lpmt_pos.csv') \n",
    "spmt_pos = pd.read_csv('data/spmt_pos.csv') \n",
    "true_info = pd.read_csv('data/true_info.csv')\n",
    "lpmt_n_hits = pd.read_csv('data/lpmt_n_hits.csv')\n",
    "spmt_n_hits = pd.read_csv('data/spmt_n_hits.csv')"
   ]
  },
  {
   "cell_type": "code",
   "execution_count": 3,
   "metadata": {
    "collapsed": true
   },
   "outputs": [],
   "source": [
    "i = 15000 #len(true_info)"
   ]
  },
  {
   "cell_type": "code",
   "execution_count": 4,
   "metadata": {
    "collapsed": true
   },
   "outputs": [],
   "source": [
    "n = np.arange(0, i)\n",
    "#n_train, n = train_test_split(n, test_size=0.5, random_state=12345)\n",
    "#n_validation, n_test = train_test_split(n, test_size=0.5, random_state=54321)"
   ]
  },
  {
   "cell_type": "code",
   "execution_count": 5,
   "metadata": {
    "collapsed": true
   },
   "outputs": [],
   "source": [
    "n_train, n_test = train_test_split(n, test_size=1/3, random_state=12345)"
   ]
  },
  {
   "cell_type": "code",
   "execution_count": 6,
   "metadata": {
    "collapsed": true
   },
   "outputs": [],
   "source": [
    "train_lpmt_hits = lpmt_hits[lpmt_hits['event'].isin(n_train)]\n",
    "train_spmt_hits = spmt_hits[spmt_hits['event'].isin(n_train)]\n",
    "train_info = true_info.iloc[n_train]\n",
    "train_lpmt_n_hits = lpmt_n_hits.iloc[n_train]\n",
    "train_spmt_n_hits = spmt_n_hits.iloc[n_train]"
   ]
  },
  {
   "cell_type": "code",
   "execution_count": 7,
   "metadata": {
    "collapsed": true
   },
   "outputs": [],
   "source": [
    "train_lpmt_hits.to_hdf('../data/train_lpmt_hits.h5', index=False, key='df', mode='w')\n",
    "train_spmt_hits.to_hdf('../data/train_spmt_hits.h5', index=False, key='df', mode='w')\n",
    "train_info.to_csv('data/train_info.csv', index=False)\n",
    "train_lpmt_n_hits.to_csv('data/train_lpmt_n_hits', index=False)\n",
    "train_spmt_n_hits.to_csv('data/train_spmt_n_hits', index=False)"
   ]
  },
  {
   "cell_type": "code",
   "execution_count": 8,
   "metadata": {
    "collapsed": true
   },
   "outputs": [],
   "source": [
    "#validation_lpmt_hits = lpmt_hits[lpmt_hits['event'].isin(n_validation)]\n",
    "#validation_spmt_hits = spmt_hits[spmt_hits['event'].isin(n_validation)]\n",
    "#validation_info = true_info.iloc[n_validation]"
   ]
  },
  {
   "cell_type": "code",
   "execution_count": 9,
   "metadata": {
    "collapsed": true
   },
   "outputs": [],
   "source": [
    "#validation_lpmt_hits.to_hdf('../data/validation_lpmt_hits.h5', index=False, key='df', mode='w')\n",
    "#validation_spmt_hits.to_hdf('../data/validation_spmt_hits.h5', index=False, key='df', mode='w')\n",
    "#validation_info.to_csv('validation_info.csv', index=False)"
   ]
  },
  {
   "cell_type": "code",
   "execution_count": 10,
   "metadata": {
    "collapsed": true
   },
   "outputs": [],
   "source": [
    "test_lpmt_hits = lpmt_hits[lpmt_hits['event'].isin(n_test)]\n",
    "test_spmt_hits = spmt_hits[spmt_hits['event'].isin(n_test)]\n",
    "test_info = true_info.iloc[n_test]\n",
    "test_lpmt_n_hits = lpmt_n_hits.iloc[n_test]\n",
    "test_spmt_n_hits = spmt_n_hits.iloc[n_test]"
   ]
  },
  {
   "cell_type": "code",
   "execution_count": 11,
   "metadata": {
    "collapsed": true
   },
   "outputs": [],
   "source": [
    "test_lpmt_hits.to_hdf('../data/test_lpmt_hits.h5', index=False, key='df', mode='w')\n",
    "test_spmt_hits.to_hdf('../data/test_spmt_hits.h5', index=False, key='df', mode='w')\n",
    "test_info.to_csv('data/test_info.csv', index=False)\n",
    "test_lpmt_n_hits.to_csv('data/test_lpmt_n_hits', index=False)\n",
    "test_spmt_n_hits.to_csv('data/test_spmt_n_hits', index=False)"
   ]
  },
  {
   "cell_type": "code",
   "execution_count": 12,
   "metadata": {},
   "outputs": [
    {
     "name": "stdout",
     "output_type": "stream",
     "text": [
      "10000\n",
      "5000\n"
     ]
    }
   ],
   "source": [
    "print(len(train_info))\n",
    "print(len(test_info))"
   ]
  },
  {
   "cell_type": "code",
   "execution_count": 13,
   "metadata": {},
   "outputs": [
    {
     "name": "stdout",
     "output_type": "stream",
     "text": [
      "total 31G\r\n",
      "-rw-rw-r-- 1 leyla leyla 5.4G Nov 22 11:21 eplus_hits_dn_0.root\r\n",
      "-rw-rw-r-- 1 leyla leyla  22G Nov 22 12:11 lpmt_hits.h5\r\n",
      "-rw-rw-r-- 1 leyla leyla 553M Nov 22 12:13 spmt_hits.h5\r\n",
      "-rw-rw-r-- 1 leyla leyla 1.1G Nov 22 12:45 test_lpmt_hits.h5\r\n",
      "-rw-rw-r-- 1 leyla leyla  28M Nov 22 12:45 test_spmt_hits.h5\r\n",
      "-rw-rw-r-- 1 leyla leyla 2.2G Nov 22 12:44 train_lpmt_hits.h5\r\n",
      "-rw-rw-r-- 1 leyla leyla  56M Nov 22 12:44 train_spmt_hits.h5\r\n"
     ]
    }
   ],
   "source": [
    "! ls -lh ../data/"
   ]
  },
  {
   "cell_type": "code",
   "execution_count": 14,
   "metadata": {},
   "outputs": [
    {
     "name": "stdout",
     "output_type": "stream",
     "text": [
      "total 13M\r\n",
      "-rw-rw-r-- 1 leyla leyla 2.4M Nov 22 12:14 lpmt_n_hits.csv\r\n",
      "-rw-rw-r-- 1 leyla leyla 622K Nov 22 12:13 lpmt_pos.csv\r\n",
      "drwxrwxr-x 2 leyla leyla 4.0K Nov 22 12:06 presentations\r\n",
      "-rw-rw-r-- 1 leyla leyla 2.4M Nov 22 12:14 spmt_n_hits.csv\r\n",
      "-rw-rw-r-- 1 leyla leyla 911K Nov 22 12:13 spmt_pos.csv\r\n",
      "-rw-rw-r-- 1 leyla leyla  37K Nov 22 12:45 test_lpmt_n_hits\r\n",
      "-rw-rw-r-- 1 leyla leyla  29K Nov 22 12:45 test_spmt_n_hits\r\n",
      "-rw-rw-r-- 1 leyla leyla 620K Nov 22 12:44 train_info.csv\r\n",
      "-rw-rw-r-- 1 leyla leyla  73K Nov 22 12:44 train_lpmt_n_hits\r\n",
      "-rw-rw-r-- 1 leyla leyla  58K Nov 22 12:44 train_spmt_n_hits\r\n",
      "-rw-rw-r-- 1 leyla leyla 5.3M Nov 22 12:13 true_info.csv\r\n"
     ]
    }
   ],
   "source": [
    "! ls -lh data/"
   ]
  },
  {
   "cell_type": "code",
   "execution_count": null,
   "metadata": {
    "collapsed": true
   },
   "outputs": [],
   "source": []
  }
 ],
 "metadata": {
  "kernelspec": {
   "display_name": "Python 3",
   "language": "python",
   "name": "python3"
  },
  "language_info": {
   "codemirror_mode": {
    "name": "ipython",
    "version": 3
   },
   "file_extension": ".py",
   "mimetype": "text/x-python",
   "name": "python",
   "nbconvert_exporter": "python",
   "pygments_lexer": "ipython3",
   "version": "3.6.2"
  }
 },
 "nbformat": 4,
 "nbformat_minor": 2
}
