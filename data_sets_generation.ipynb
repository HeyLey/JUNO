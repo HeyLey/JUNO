{
 "cells": [
  {
   "cell_type": "code",
   "execution_count": 1,
   "metadata": {},
   "outputs": [
    {
     "name": "stderr",
     "output_type": "stream",
     "text": [
      "/opt/conda/anaconda3/lib/python3.6/importlib/_bootstrap.py:205: RuntimeWarning: numpy.dtype size changed, may indicate binary incompatibility. Expected 96, got 88\n",
      "  return f(*args, **kwds)\n",
      "/opt/conda/anaconda3/lib/python3.6/importlib/_bootstrap.py:205: RuntimeWarning: numpy.dtype size changed, may indicate binary incompatibility. Expected 96, got 88\n",
      "  return f(*args, **kwds)\n"
     ]
    }
   ],
   "source": [
    "import numpy as np\n",
    "import pandas as pd\n",
    "from sklearn.model_selection import train_test_split"
   ]
  },
  {
   "cell_type": "code",
   "execution_count": 2,
   "metadata": {
    "collapsed": true
   },
   "outputs": [],
   "source": [
    "lpmt_hits = pd.read_hdf('../data/lpmt_hits.h5', mode='r') \n",
    "spmt_hits = pd.read_hdf('../data/spmt_hits.h5', mode='r')\n",
    "lpmt_pos = pd.read_csv('lpmt_pos.csv') \n",
    "spmt_pos = pd.read_csv('spmt_pos.csv') \n",
    "true_info = pd.read_csv('true_info.csv')"
   ]
  },
  {
   "cell_type": "code",
   "execution_count": 3,
   "metadata": {},
   "outputs": [
    {
     "data": {
      "text/plain": [
       "100000"
      ]
     },
     "execution_count": 3,
     "metadata": {},
     "output_type": "execute_result"
    }
   ],
   "source": [
    "i = len(true_info)\n",
    "i"
   ]
  },
  {
   "cell_type": "code",
   "execution_count": 4,
   "metadata": {
    "collapsed": true
   },
   "outputs": [],
   "source": [
    "n = np.arange(0, i)\n",
    "n_train, n = train_test_split(n, test_size=0.5, random_state=12345)\n",
    "n_validation, n_test = train_test_split(n, test_size=0.5, random_state=54321)"
   ]
  },
  {
   "cell_type": "code",
   "execution_count": 5,
   "metadata": {
    "collapsed": true
   },
   "outputs": [],
   "source": [
    "train_lpmt_hits = lpmt_hits[lpmt_hits['event'].isin(n_train)]\n",
    "train_spmt_hits = spmt_hits[spmt_hits['event'].isin(n_train)]\n",
    "train_info = true_info.iloc[n_train]"
   ]
  },
  {
   "cell_type": "code",
   "execution_count": 7,
   "metadata": {},
   "outputs": [],
   "source": [
    "train_lpmt_hits.to_hdf('../data/train_lpmt_hits.h5', index=False, key='df', mode='w')\n",
    "train_spmt_hits.to_hdf('../data/train_spmt_hits.h5', index=False, key='df', mode='w')\n",
    "train_info.to_csv('train_info.csv', index=False)"
   ]
  },
  {
   "cell_type": "code",
   "execution_count": 8,
   "metadata": {
    "collapsed": true
   },
   "outputs": [],
   "source": [
    "validation_lpmt_hits = lpmt_hits[lpmt_hits['event'].isin(n_validation)]\n",
    "validation_spmt_hits = spmt_hits[spmt_hits['event'].isin(n_validation)]\n",
    "validation_info = true_info.iloc[n_validation]"
   ]
  },
  {
   "cell_type": "code",
   "execution_count": 10,
   "metadata": {},
   "outputs": [],
   "source": [
    "validation_lpmt_hits.to_hdf('../data/validation_lpmt_hits.h5', index=False, key='df', mode='w')\n",
    "validation_spmt_hits.to_hdf('../data/validation_spmt_hits.h5', index=False, key='df', mode='w')\n",
    "validation_info.to_csv('validation_info.csv', index=False)"
   ]
  },
  {
   "cell_type": "code",
   "execution_count": 11,
   "metadata": {
    "collapsed": true
   },
   "outputs": [],
   "source": [
    "test_lpmt_hits = lpmt_hits[lpmt_hits['event'].isin(n_test)]\n",
    "test_spmt_hits = spmt_hits[spmt_hits['event'].isin(n_test)]\n",
    "test_info = true_info.iloc[n_test]"
   ]
  },
  {
   "cell_type": "code",
   "execution_count": 12,
   "metadata": {
    "collapsed": true
   },
   "outputs": [],
   "source": [
    "test_lpmt_hits.to_hdf('../data/test_lpmt_hits.h5', index=False, key='df', mode='w')\n",
    "test_spmt_hits.to_hdf('../data/test_spmt_hits.h5', index=False, key='df', mode='w')\n",
    "test_info.to_csv('test_info.csv', index=False)"
   ]
  },
  {
   "cell_type": "code",
   "execution_count": null,
   "metadata": {
    "collapsed": true
   },
   "outputs": [],
   "source": []
  }
 ],
 "metadata": {
  "kernelspec": {
   "display_name": "Python 3",
   "language": "python",
   "name": "python3"
  },
  "language_info": {
   "codemirror_mode": {
    "name": "ipython",
    "version": 3
   },
   "file_extension": ".py",
   "mimetype": "text/x-python",
   "name": "python",
   "nbconvert_exporter": "python",
   "pygments_lexer": "ipython3",
   "version": "3.6.2"
  }
 },
 "nbformat": 4,
 "nbformat_minor": 2
}
