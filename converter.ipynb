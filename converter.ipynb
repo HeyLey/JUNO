{
 "cells": [
  {
   "cell_type": "code",
   "execution_count": 1,
   "metadata": {},
   "outputs": [
    {
     "name": "stderr",
     "output_type": "stream",
     "text": [
      "/opt/conda/anaconda3/lib/python3.6/importlib/_bootstrap.py:205: RuntimeWarning: numpy.dtype size changed, may indicate binary incompatibility. Expected 96, got 88\n",
      "  return f(*args, **kwds)\n",
      "/opt/conda/anaconda3/lib/python3.6/importlib/_bootstrap.py:205: RuntimeWarning: numpy.dtype size changed, may indicate binary incompatibility. Expected 96, got 88\n",
      "  return f(*args, **kwds)\n"
     ]
    }
   ],
   "source": [
    "import numpy as np\n",
    "import pandas as pd\n",
    "from mpl_toolkits.mplot3d import Axes3D\n",
    "import matplotlib.pyplot as plt\n",
    "import tables\n",
    "from random import shuffle\n",
    "from IPython.display import clear_output\n",
    "from sklearn import metrics\n",
    "from tqdm import tqdm\n",
    "import time\n",
    "import seaborn as sns\n",
    "%matplotlib inline"
   ]
  },
  {
   "cell_type": "code",
   "execution_count": 2,
   "metadata": {},
   "outputs": [
    {
     "name": "stderr",
     "output_type": "stream",
     "text": [
      "/opt/conda/anaconda3/lib/python3.6/site-packages/root_numpy/__init__.py:46: RuntimeWarning: numpy 1.15.0 is currently installed but you installed root_numpy against numpy 1.12.1. Please consider reinstalling root_numpy for this numpy version.\n",
      "  RuntimeWarning)\n"
     ]
    }
   ],
   "source": [
    "import ROOT\n",
    "import root_numpy\n",
    "import uproot"
   ]
  },
  {
   "cell_type": "code",
   "execution_count": 3,
   "metadata": {
    "collapsed": true
   },
   "outputs": [],
   "source": [
    "def read_hits(hits):\n",
    "    nHits = hits.get('nHits').array()\n",
    "    pmtID = hits.get('pmtID').array()\n",
    "    hitTime = hits.get('hitTime').array()\n",
    "    isDN = hits.get('isDN').array()\n",
    "\n",
    "    return nHits, pmtID, hitTime, isDN\n",
    "\n",
    "\n",
    "def read_pos(pos):\n",
    "    pmt_id = pos.get('pmt_id').array() \n",
    "    pmt_x = pos.get('pmt_x').array() \n",
    "    pmt_y = pos.get('pmt_y').array() \n",
    "    pmt_z = pos.get('pmt_z').array() \n",
    "\n",
    "    return pmt_id, pmt_x, pmt_y, pmt_z\n",
    "\n",
    "\n",
    "def read_true_info(true_info):\n",
    "    evtID = true_info.get('evtID').array()  \n",
    "    E = true_info.get('E').array() \n",
    "    x = true_info.get('x').array() \n",
    "    y = true_info.get('y').array() \n",
    "    z = true_info.get('z').array() \n",
    "    R = true_info.get('R').array() \n",
    "\n",
    "    return evtID, E, x, y, z, R"
   ]
  },
  {
   "cell_type": "code",
   "execution_count": 4,
   "metadata": {
    "collapsed": true
   },
   "outputs": [],
   "source": [
    "def hits_to_hdf(t, name):\n",
    "    nHits, pmtID, hitTime, isDN = read_hits(t)\n",
    "    \n",
    "    dt_list = []\n",
    "    for i in tqdm(range(len(nHits))):\n",
    "        n = nHits[i]\n",
    "        \n",
    "        df2 = pd.DataFrame({\n",
    "            'event': i,\n",
    "            'pmtID': pmtID[i], \n",
    "            'hitTime': hitTime[i], \n",
    "            'isDN': isDN[i]\n",
    "                             \n",
    "        }) \n",
    "        dt_list.append(df2)\n",
    "    \n",
    "    pd.concat(dt_list).to_hdf(name, index=False, key='df', mode='w')\n",
    "\n",
    "\n",
    "def pos_to_csv(t, name):\n",
    "    pmt_id, pmt_x, pmt_y, pmt_z = read_pos(t)\n",
    "    df = pd.DataFrame({ 'pmt_id': pmt_id, 'pmt_x': pmt_x, \n",
    "                        'pmt_y': pmt_y, 'pmt_z': pmt_z\n",
    "                     })\n",
    "    df.to_csv(name, index=False)\n",
    "\n",
    "\n",
    "def true_info_to_csv(t, name):\n",
    "    evtID, E, x, y, z, R = read_true_info(t)\n",
    "    df = pd.DataFrame({ 'evtID': evtID, 'E': E, 'x': x,\n",
    "                        'y': y, 'z': z, 'R': R\n",
    "                     })\n",
    "    df.to_csv(name, index=False)"
   ]
  },
  {
   "cell_type": "code",
   "execution_count": 5,
   "metadata": {
    "collapsed": true
   },
   "outputs": [],
   "source": [
    "def convert(t1, t2, t3, t4, t5):\n",
    "    hits_to_hdf(t1, '../data/lpmt_hits.h5')\n",
    "    hits_to_hdf(t2, '../data/spmt_hits.h5')\n",
    "    pos_to_csv(t4, 'data/lpmt_pos.csv')\n",
    "    pos_to_csv(t5, 'data/spmt_pos.csv')\n",
    "    true_info_to_csv(t3, 'data/true_info.csv')"
   ]
  },
  {
   "cell_type": "code",
   "execution_count": 12,
   "metadata": {
    "collapsed": true
   },
   "outputs": [],
   "source": [
    "def read_n(hits):\n",
    "    nHits = hits.get('nHits').array()\n",
    "    return nHits"
   ]
  },
  {
   "cell_type": "code",
   "execution_count": 13,
   "metadata": {
    "collapsed": true
   },
   "outputs": [],
   "source": [
    "def n_hits_to_csv(t, name):\n",
    "    nHits = read_n(t)\n",
    "    event_id = np.arange(0, len(nHits))\n",
    "    df = pd.DataFrame({ 'event_id': event_id, \n",
    "                        'nHits': nHits\n",
    "                     })\n",
    "    df.to_csv(name, index=False)"
   ]
  },
  {
   "cell_type": "markdown",
   "metadata": {},
   "source": [
    "## Convert .root to .csv or .h5"
   ]
  },
  {
   "cell_type": "code",
   "execution_count": 6,
   "metadata": {},
   "outputs": [
    {
     "data": {
      "text/plain": [
       "[b'lpmt_hits;187',\n",
       " b'lpmt_hits;186',\n",
       " b'spmt_hits;5',\n",
       " b'spmt_hits;4',\n",
       " b'true_info;1',\n",
       " b'lpmt_pos;1',\n",
       " b'spmt_pos;1']"
      ]
     },
     "execution_count": 6,
     "metadata": {},
     "output_type": "execute_result"
    }
   ],
   "source": [
    "r = uproot.open(\"../data/eplus_hits_dn_0.root\")\n",
    "r.keys()"
   ]
  },
  {
   "cell_type": "code",
   "execution_count": 15,
   "metadata": {
    "collapsed": true
   },
   "outputs": [],
   "source": [
    "t1 = r.get(\"lpmt_hits\")\n",
    "t2 = r.get(\"spmt_hits\")\n",
    "t3 = r.get(\"true_info\")\n",
    "t4 = r.get(\"lpmt_pos\")\n",
    "t5 = r.get(\"spmt_pos\")"
   ]
  },
  {
   "cell_type": "code",
   "execution_count": 11,
   "metadata": {},
   "outputs": [
    {
     "name": "stderr",
     "output_type": "stream",
     "text": [
      "100%|██████████| 100000/100000 [01:25<00:00, 1166.22it/s]\n",
      "100%|██████████| 100000/100000 [01:09<00:00, 1428.61it/s]\n"
     ]
    }
   ],
   "source": [
    "convert(t1, t2, t3, t4, t5)"
   ]
  },
  {
   "cell_type": "code",
   "execution_count": 16,
   "metadata": {},
   "outputs": [],
   "source": [
    "n_hits_to_csv(t1, 'data/lpmt_n_hits.csv')\n",
    "n_hits_to_csv(t2, 'data/spmt_n_hits.csv')"
   ]
  },
  {
   "cell_type": "code",
   "execution_count": 13,
   "metadata": {},
   "outputs": [
    {
     "name": "stdout",
     "output_type": "stream",
     "text": [
      "total 12M\r\n",
      "-rw-rw-r-- 1 leyla leyla 2.4M Nov 22 12:14 lpmt_n_hits.csv\r\n",
      "-rw-rw-r-- 1 leyla leyla 622K Nov 22 12:13 lpmt_pos.csv\r\n",
      "drwxrwxr-x 2 leyla leyla 4.0K Nov 22 12:06 presentations\r\n",
      "-rw-rw-r-- 1 leyla leyla 2.4M Nov 22 12:14 spmt_n_hits.csv\r\n",
      "-rw-rw-r-- 1 leyla leyla 911K Nov 22 12:13 spmt_pos.csv\r\n",
      "-rw-rw-r-- 1 leyla leyla 5.3M Nov 22 12:13 true_info.csv\r\n"
     ]
    }
   ],
   "source": [
    "! ls -lh data/"
   ]
  },
  {
   "cell_type": "code",
   "execution_count": 14,
   "metadata": {},
   "outputs": [
    {
     "name": "stdout",
     "output_type": "stream",
     "text": [
      "total 28G\r\n",
      "-rw-rw-r-- 1 leyla leyla 5.4G Nov 22 11:21 eplus_hits_dn_0.root\r\n",
      "-rw-rw-r-- 1 leyla leyla  22G Nov 22 12:11 lpmt_hits.h5\r\n",
      "-rw-rw-r-- 1 leyla leyla 553M Nov 22 12:13 spmt_hits.h5\r\n"
     ]
    }
   ],
   "source": [
    "! ls -lh ../data/"
   ]
  },
  {
   "cell_type": "code",
   "execution_count": null,
   "metadata": {
    "collapsed": true
   },
   "outputs": [],
   "source": []
  }
 ],
 "metadata": {
  "kernelspec": {
   "display_name": "Python 3",
   "language": "python",
   "name": "python3"
  },
  "language_info": {
   "codemirror_mode": {
    "name": "ipython",
    "version": 3
   },
   "file_extension": ".py",
   "mimetype": "text/x-python",
   "name": "python",
   "nbconvert_exporter": "python",
   "pygments_lexer": "ipython3",
   "version": "3.6.2"
  }
 },
 "nbformat": 4,
 "nbformat_minor": 2
}
